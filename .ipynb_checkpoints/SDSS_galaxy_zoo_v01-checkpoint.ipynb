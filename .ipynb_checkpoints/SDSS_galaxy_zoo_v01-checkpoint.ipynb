{
 "cells": [
  {
   "cell_type": "markdown",
   "id": "29275257",
   "metadata": {},
   "source": [
    "# Preamble"
   ]
  },
  {
   "cell_type": "markdown",
   "id": "9069a14b",
   "metadata": {},
   "source": [
    "This is a demonstration of reading the galaxy zoo dataset with python. Data is hosted at https://zenodo.org/record/4573248#.Yf0CDLso8vg (gz_decals_dr5_png_part1.zip)\n",
    "\n",
    "\n",
    "see documentation on https://data.galaxyzoo.org/\n",
    "\n",
    "Galaxy Zoo is described in Lintott et al. 2008, MNRAS, 389, 1179 and the data release is described in Lintott et al. 2011, 410, 166."
   ]
  },
  {
   "cell_type": "code",
   "execution_count": 12,
   "id": "6dd58908",
   "metadata": {},
   "outputs": [],
   "source": [
    "import numpy as np\n",
    "import pandas as pd\n",
    "import matplotlib.pyplot as plt\n",
    "%matplotlib inline\n",
    "\n",
    "import glob\n"
   ]
  },
  {
   "cell_type": "markdown",
   "id": "89542211",
   "metadata": {},
   "source": [
    "# File loading example"
   ]
  },
  {
   "cell_type": "code",
   "execution_count": 38,
   "id": "fdf62f3e",
   "metadata": {},
   "outputs": [],
   "source": [
    "# gz_decals_dr5_png_part1.zip\n",
    "directory_path = \"/e/ocean1/users/vargatn/GALAXY_ZOO/\"\n",
    "folders = np.sort(glob.glob(directory_path + \"/*\"))\n",
    "all_files = [np.sort(glob.glob(folder_path + \"/*\")) for folder_path in folders]\n"
   ]
  },
  {
   "cell_type": "markdown",
   "id": "d6d8f13c",
   "metadata": {},
   "source": [
    "## Let's loop through a few images"
   ]
  },
  {
   "cell_type": "code",
   "execution_count": 39,
   "id": "eede1c18",
   "metadata": {},
   "outputs": [],
   "source": [
    "fname = all_files[0][0] # first file in first folder\n",
    "id_tag = fname.split(\"/\")[-1].split(\".png\")[0]\n",
    "im =  plt.imread(fname, format=\"png\")"
   ]
  },
  {
   "cell_type": "code",
   "execution_count": null,
   "id": "fa909246",
   "metadata": {},
   "outputs": [],
   "source": [
    "fig, axarr = plt.subplots(nrows=4, ncols=4, figsize=(12, 12))\n",
    "faxarr = axarr.flatten()\n",
    "\n",
    "for i in np.arange(16):\n",
    "    fname = all_files[0][i] # first file in first folder\n",
    "    id_tag = fname.split(\"/\")[-1].split(\".png\")[0]\n",
    "\n",
    "    im = plt.imread(fname, format=\"png\")\n",
    "    faxarr[i].imshow(im)\n",
    "    faxarr[i].set_title(id_tag, fontsize=10)\n",
    "\n",
    "fig.savefig(\"galaxy_zoo_example.png\", bbox_inches=\"tight\", dpi=300)"
   ]
  },
  {
   "cell_type": "code",
   "execution_count": null,
   "id": "3c759bbe",
   "metadata": {},
   "outputs": [],
   "source": []
  }
 ],
 "metadata": {
  "kernelspec": {
   "display_name": "Python 3",
   "language": "python",
   "name": "python3"
  },
  "language_info": {
   "codemirror_mode": {
    "name": "ipython",
    "version": 3
   },
   "file_extension": ".py",
   "mimetype": "text/x-python",
   "name": "python",
   "nbconvert_exporter": "python",
   "pygments_lexer": "ipython3",
   "version": "3.8.8"
  },
  "toc": {
   "base_numbering": 1,
   "nav_menu": {},
   "number_sections": true,
   "sideBar": true,
   "skip_h1_title": false,
   "title_cell": "Table of Contents",
   "title_sidebar": "Contents",
   "toc_cell": false,
   "toc_position": {},
   "toc_section_display": true,
   "toc_window_display": false
  },
  "widgets": {
   "state": {},
   "version": "1.0.0"
  }
 },
 "nbformat": 4,
 "nbformat_minor": 5
}
